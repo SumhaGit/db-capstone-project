{
 "cells": [
  {
   "cell_type": "code",
   "execution_count": 38,
   "id": "7665ddbb",
   "metadata": {},
   "outputs": [],
   "source": [
    "import mysql.connector as connector"
   ]
  },
  {
   "cell_type": "code",
   "execution_count": 50,
   "id": "8f8f6b0d",
   "metadata": {},
   "outputs": [],
   "source": [
    "try:\n",
    "    connection = connector.connect(user = \"souhila\", password = \"\", database = \"db-capstone\")\n",
    "except connector.Error as e:\n",
    "    print(\"Error:\", e)"
   ]
  },
  {
   "cell_type": "code",
   "execution_count": 52,
   "id": "fc88def4",
   "metadata": {},
   "outputs": [],
   "source": [
    "cursor = connection.cursor()"
   ]
  },
  {
   "cell_type": "code",
   "execution_count": 59,
   "id": "b8071f71",
   "metadata": {},
   "outputs": [
    {
     "name": "stdout",
     "output_type": "stream",
     "text": [
      "[('booking',), ('customer',), ('menu',), ('menuorder',), ('orders',), ('orderstatus',), ('ordersview',), ('staff',)]\n"
     ]
    }
   ],
   "source": [
    "show_table_query = \"SHOW TABLES\"\n",
    "cursor.execute(show_table_query)\n",
    "results = cursor.fetchall()\n",
    "print(results)\n"
   ]
  },
  {
   "cell_type": "code",
   "execution_count": 77,
   "id": "b05d2a49",
   "metadata": {},
   "outputs": [],
   "source": [
    "join_query = \"SELECT CustomerName, CustomerContact FROM customer NATURAL JOIN orders WHERE TotalCost > 60 ;\"\n",
    "cursor.execute(join_query)\n",
    "results = cursor.fetchall()\n",
    "for result in results:\n",
    " print(result)"
   ]
  },
  {
   "cell_type": "code",
   "execution_count": null,
   "id": "d12780e9",
   "metadata": {},
   "outputs": [],
   "source": []
  }
 ],
 "metadata": {
  "kernelspec": {
   "display_name": "Python 3",
   "language": "python",
   "name": "python3"
  },
  "language_info": {
   "codemirror_mode": {
    "name": "ipython",
    "version": 3
   },
   "file_extension": ".py",
   "mimetype": "text/x-python",
   "name": "python",
   "nbconvert_exporter": "python",
   "pygments_lexer": "ipython3",
   "version": "3.13.4"
  }
 },
 "nbformat": 4,
 "nbformat_minor": 5
}
